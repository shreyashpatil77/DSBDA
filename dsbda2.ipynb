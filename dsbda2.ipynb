{
  "metadata": {
    "kernelspec": {
      "name": "python",
      "display_name": "Python (Pyodide)",
      "language": "python"
    },
    "language_info": {
      "codemirror_mode": {
        "name": "python",
        "version": 3
      },
      "file_extension": ".py",
      "mimetype": "text/x-python",
      "name": "python",
      "nbconvert_exporter": "python",
      "pygments_lexer": "ipython3",
      "version": "3.8"
    }
  },
  "nbformat_minor": 5,
  "nbformat": 4,
  "cells": [
    {
      "id": "6b8396bc-877b-4a7c-b5fb-f8c967fb9f61",
      "cell_type": "code",
      "source": "ip=\"a4b4c4b1\"\nop=\"\"\nfor i in range(0,len(ip),2):\n    char=ip[i]\n    count=int(ip[i+1])\n    op+=char*count\nprint(op)",
      "metadata": {
        "trusted": true
      },
      "outputs": [
        {
          "name": "stdout",
          "output_type": "stream",
          "text": "aaaabbbbccccb\n"
        }
      ],
      "execution_count": 2
    },
    {
      "id": "9906fd27-1ff3-4bc8-8d83-561cfef7198a",
      "cell_type": "code",
      "source": "test_list = [[3, 5, 4], [6, 2, 4], [1, 3, 6]]\nfreq = {}\nfor sublist in test_list:\n    for element in sublist:\n        if element in freq:\n            freq[element] += 1\n        else:\n            freq[element] = 1\nprint(\"The original list:\", test_list)\nprint(\"The list frequency of elements is:\", freq)",
      "metadata": {
        "trusted": true
      },
      "outputs": [
        {
          "name": "stdout",
          "output_type": "stream",
          "text": "The original list: [[3, 5, 4], [6, 2, 4], [1, 3, 6]]\nThe list frequency of elements is: {3: 2, 5: 1, 4: 2, 6: 2, 2: 1, 1: 1}\n"
        }
      ],
      "execution_count": 3
    },
    {
      "id": "e6d99850-cb56-45ed-b428-c6e94fd29a18",
      "cell_type": "code",
      "source": "list1 = [1, 2, 3, 4, 5]\nlist2 = [4, 5, 3, 7, 8]\ncommon_elements = []\nfor element in list1:\n    if element in list2:\n        common_elements.append(element)\nprint(common_elements)\n",
      "metadata": {
        "trusted": true
      },
      "outputs": [
        {
          "name": "stdout",
          "output_type": "stream",
          "text": "[3, 4, 5]\n"
        }
      ],
      "execution_count": 4
    },
    {
      "id": "138439a7-649d-4d00-97c8-4ce0bfaeabdf",
      "cell_type": "code",
      "source": "names_list = ['Sohan', 'Mohan', 'Rohan']\nfirst_letters = []\nfor name in names_list:\n    first_letters.append(name[0])\nprint(first_letters)",
      "metadata": {
        "trusted": true
      },
      "outputs": [
        {
          "name": "stdout",
          "output_type": "stream",
          "text": "['S', 'M', 'R']\n"
        }
      ],
      "execution_count": 5
    },
    {
      "id": "f775c8f9-f550-4bfb-93ae-00e6074a9a9b",
      "cell_type": "code",
      "source": "list_words = ['pandas', 'numpy', 'flask', 'python', 'python']\nmost_common = max(list_words, key=list_words.count)\nprint(most_common)",
      "metadata": {
        "trusted": true
      },
      "outputs": [
        {
          "name": "stdout",
          "output_type": "stream",
          "text": "python\n"
        }
      ],
      "execution_count": 6
    },
    {
      "id": "e1bcab43-e9b4-4715-862a-097c4fa7611d",
      "cell_type": "code",
      "source": "input_string = \"Hello, World!\"\nprint(\"Length of the string:\", len(input_string))",
      "metadata": {
        "trusted": true
      },
      "outputs": [
        {
          "name": "stdout",
          "output_type": "stream",
          "text": "Length of the string: 13\n"
        }
      ],
      "execution_count": 7
    },
    {
      "id": "36047113-b98e-4ba5-82ce-c3f78ed8251a",
      "cell_type": "code",
      "source": "input_list = [1, 2, 3, 4, 5]\nprint(\"Length of the list:\", len(input_list))",
      "metadata": {
        "trusted": true
      },
      "outputs": [
        {
          "name": "stdout",
          "output_type": "stream",
          "text": "Length of the list: 5\n"
        }
      ],
      "execution_count": 8
    },
    {
      "id": "1c67109d-b087-4728-b712-a935b4a58910",
      "cell_type": "code",
      "source": "",
      "metadata": {
        "trusted": true
      },
      "outputs": [],
      "execution_count": null
    }
  ]
}